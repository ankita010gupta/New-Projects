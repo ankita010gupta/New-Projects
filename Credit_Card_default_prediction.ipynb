{
  "nbformat": 4,
  "nbformat_minor": 0,
  "metadata": {
    "colab": {
      "private_outputs": true,
      "provenance": [],
      "collapsed_sections": [
        "w6K7xa23Elo4",
        "448CDAPjqfQr",
        "t6dVpIINYklI",
        "ijmpgYnKYklI",
        "-JiQyfWJYklI",
        "fge-S5ZAYoAp",
        "85gYPyotYoAp",
        "RoGjAbkUYoAp",
        "iky9q4vBYrdO",
        "F6T5p64dYrdO",
        "y-Ehk30pYrdP",
        "QHF8YVU7Yuh3",
        "GwzvFGzlYuh3",
        "qYpmQ266Yuh3",
        "bbFf2-_FphqN",
        "_ouA3fa0phqN",
        "Seke61FWphqN",
        "t27r6nlMphqO",
        "r2jJGEOYphqO",
        "b0JNsNcRphqO",
        "gCFgpxoyphqP",
        "OVtJsKN_phqQ",
        "lssrdh5qphqQ",
        "1M8mcRywphqQ",
        "tgIPom80phqQ",
        "X_VqEhTip1ck",
        "8zGJKyg5p1ck",
        "PVzmfK_Ep1ck",
        "ylSl6qgtp1ck",
        "ZWILFDl5p1ck",
        "M7G43BXep1ck",
        "E6MkPsBcp1cl",
        "2cELzS2fp1cl",
        "3MPXvC8up1cl",
        "UV0SzAkaZNRQ",
        "YPEH6qLeZNRQ",
        "EXh0U9oCveiU",
        "22aHeOlLveiV",
        "8G2x9gOozGDZ",
        "gCX9965dhzqZ",
        "gIfDvo9L0UH2"
      ]
    },
    "kernelspec": {
      "name": "python3",
      "display_name": "Python 3"
    },
    "language_info": {
      "name": "python"
    }
  },
  "cells": [
    {
      "cell_type": "markdown",
      "source": [
        "# **Project Name**    - **Credit Card Default Prediction**\n",
        "\n"
      ],
      "metadata": {
        "id": "vncDsAP0Gaoa"
      }
    },
    {
      "cell_type": "markdown",
      "source": [
        "##### **Project Type**  - Classification\n",
        "##### **Contribution**    - Individual"
      ],
      "metadata": {
        "id": "beRrZCGUAJYm"
      }
    },
    {
      "cell_type": "markdown",
      "source": [
        "# **Project Summary -**"
      ],
      "metadata": {
        "id": "FJNUwmbgGyua"
      }
    },
    {
      "cell_type": "markdown",
      "source": [
        "**Data preprocessing:**\n",
        "1. Getting the dataset\n",
        "2. Importing libraries\n",
        "3. Importing Dataset\n",
        "4. Finding Missing Data\n",
        "5. Encoding categorical data\n",
        "6. Data cleaning and feature engineering\n",
        "\n",
        "**Exploratory Data Analysis(EDA)**\n",
        "1. Firstly checked distribution of target variables and independent variables.\n",
        "2. Checked number of values in categorical features.\n",
        "3. Replaced the values that are lowest in categorical features.\n",
        "4. Replaced the other values with a particular value in some numerical features such as pay status.\n",
        "5. Dummyfied the categorical features.\n",
        "6. Checked correlation to see if there are any highly correlated independent features.\n",
        "\n",
        "**Supervised Machine learning algorithms and implementation:**\n",
        "1. K nearest neighbours\n",
        "2. Logistic Regression\n",
        "3. Decision Tree\n",
        "4. XG boost classifier\n",
        "5. Random Forest Classifier\n",
        "\n"
      ],
      "metadata": {
        "id": "F6v_1wHtG2nS"
      }
    },
    {
      "cell_type": "markdown",
      "source": [
        "# **GitHub Link -**"
      ],
      "metadata": {
        "id": "w6K7xa23Elo4"
      }
    },
    {
      "cell_type": "markdown",
      "source": [
        "Provide your GitHub Link here."
      ],
      "metadata": {
        "id": "h1o69JH3Eqqn"
      }
    },
    {
      "cell_type": "markdown",
      "source": [
        "# **Problem Statement**\n"
      ],
      "metadata": {
        "id": "yQaldy8SH6Dl"
      }
    },
    {
      "cell_type": "markdown",
      "source": [
        "Defaulted credit card refers to a solution where a credit card holder fails to make the required minimum payments on their credit card account for a certain period of time, typically several consecutive month. As a result, the credit card issuer or the lending institution consider the account in default and takes action to recover the outstanding balance. However if the credit card issuer or the lending institution is not able to recover the outstanding then its a financial loss to them and also on the other hand it impacts the customers in a negative way to their credit score as well as credit profile. So in this project our aim will be to build a model which will help top predict whether a customer will default the payment of his/her credit card so that the banks can understand the characteristics that lead to this outcome."
      ],
      "metadata": {
        "id": "DpeJGUA3kjGy"
      }
    },
    {
      "cell_type": "markdown",
      "source": [
        "# **General Guidelines** : -  "
      ],
      "metadata": {
        "id": "mDgbUHAGgjLW"
      }
    },
    {
      "cell_type": "markdown",
      "source": [
        "1.   Well-structured, formatted, and commented code is required.\n",
        "2.   Exception Handling, Production Grade Code & Deployment Ready Code will be a plus. Those students will be awarded some additional credits.\n",
        "     \n",
        "     The additional credits will have advantages over other students during Star Student selection.\n",
        "       \n",
        "             [ Note: - Deployment Ready Code is defined as, the whole .ipynb notebook should be executable in one go\n",
        "                       without a single error logged. ]\n",
        "\n",
        "3.   Each and every logic should have proper comments.\n",
        "4. You may add as many number of charts you want. Make Sure for each and every chart the following format should be answered.\n",
        "        \n",
        "\n",
        "```\n",
        "# Chart visualization code\n",
        "```\n",
        "            \n",
        "\n",
        "*   Why did you pick the specific chart?\n",
        "*   What is/are the insight(s) found from the chart?\n",
        "* Will the gained insights help creating a positive business impact?\n",
        "Are there any insights that lead to negative growth? Justify with specific reason.\n",
        "\n",
        "5. You have to create at least 20 logical & meaningful charts having important insights.\n",
        "\n",
        "\n",
        "[ Hints : - Do the Vizualization in  a structured way while following \"UBM\" Rule.\n",
        "\n",
        "U - Univariate Analysis,\n",
        "\n",
        "B - Bivariate Analysis (Numerical - Categorical, Numerical - Numerical, Categorical - Categorical)\n",
        "\n",
        "M - Multivariate Analysis\n",
        " ]\n",
        "\n",
        "\n",
        "\n"
      ],
      "metadata": {
        "id": "ZrxVaUj-hHfC"
      }
    },
    {
      "cell_type": "markdown",
      "source": [
        "# ***Let's Begin !***"
      ],
      "metadata": {
        "id": "O_i_v8NEhb9l"
      }
    },
    {
      "cell_type": "markdown",
      "source": [
        "## ***1. Know Your Data***"
      ],
      "metadata": {
        "id": "HhfV-JJviCcP"
      }
    },
    {
      "cell_type": "markdown",
      "source": [
        "### Import Libraries"
      ],
      "metadata": {
        "id": "Y3lxredqlCYt"
      }
    },
    {
      "cell_type": "code",
      "source": [
        "# Import Libraries\n",
        "import numpy as np\n",
        "import pandas as pd\n",
        "import seaborn as sns\n",
        "import matplotlib.pyplot as plt\n",
        "%matplotlib inline\n",
        "import plotly.express as px\n",
        "pd.set_option('display.max_columns', 100)\n",
        "\n",
        "\n",
        "import warnings\n",
        "warnings.filterwarnings(\"ignore\")\n",
        "\n",
        "from datetime import datetime\n",
        "\n",
        "from imblearn.over_sampling import SMOTE\n",
        "from collections import Counter\n",
        "\n",
        "from sklearn.preprocessing import StandardScaler\n",
        "from sklearn.preprocessing import MinMaxScaler\n",
        "\n",
        "from sklearn.model_selection import train_test_split\n",
        "from sklearn.linear_model import LogisticRegression\n",
        "\n",
        "from sklearn.ensemble import RandomForestClassifier\n",
        "from sklearn.tree import DecisionTreeClassifier\n",
        "import xgboost as xgb\n",
        "\n",
        "from sklearn.model_selection import RandomizedSearchCV, GridSearchCV\n",
        "from xgboost import XGBRFClassifier\n",
        "\n",
        "from sklearn.metrics import ConfusionMatrixDisplay\n",
        "from sklearn import metrics\n",
        "from sklearn.metrics import classification_report, accuracy_score, confusion_matrix, roc_auc_score\n"
      ],
      "metadata": {
        "id": "M8Vqi-pPk-HR"
      },
      "execution_count": null,
      "outputs": []
    },
    {
      "cell_type": "markdown",
      "source": [
        "\n",
        "\n",
        "```\n",
        "# This is formatted as code\n",
        "```\n",
        "\n",
        "### Dataset Loading"
      ],
      "metadata": {
        "id": "3RnN4peoiCZX"
      }
    },
    {
      "cell_type": "code",
      "source": [
        "# Load Dataset\n",
        "Cr = (\"/content/default of credit card clients.xls\")\n",
        "Cr_df = pd.read_excel(Cr)"
      ],
      "metadata": {
        "id": "4CkvbW_SlZ_R"
      },
      "execution_count": null,
      "outputs": []
    },
    {
      "cell_type": "markdown",
      "source": [
        "### Dataset First View"
      ],
      "metadata": {
        "id": "x71ZqKXriCWQ"
      }
    },
    {
      "cell_type": "code",
      "source": [
        "# Dataset First Look\n",
        "Cr_df.head()"
      ],
      "metadata": {
        "id": "LWNFOSvLl09H"
      },
      "execution_count": null,
      "outputs": []
    },
    {
      "cell_type": "code",
      "source": [
        "rename_list= ['ID','LIMIT_BAL','SEX', 'EDUCATION','MARRIAGE', 'AGE',  'PAY_0',\n",
        "              'PAY_2',  'PAY_3',  'PAY_4','PAY_5','PAY_6','BILL_AMT1','BILL_AMT2','BILL_AMT3','BILL_AMT4','BILL_AMT5',  'BILL_AMT6',  'PAY_AMT1',\n",
        "              'PAY_AMT2', 'PAY_AMT3', 'PAY_AMT4', 'PAY_AMT5', 'PAY_AMT6', 'default']\n",
        "col_rename = dict(zip(Cr_df.columns, rename_list))\n",
        "Cr_df = Cr_df.rename(columns=col_rename)\n"
      ],
      "metadata": {
        "id": "wMo0nGVttllU"
      },
      "execution_count": null,
      "outputs": []
    },
    {
      "cell_type": "code",
      "source": [
        "Cr_df=Cr_df.drop(Cr_df.index[[0]],axis=0)"
      ],
      "metadata": {
        "id": "-GLlybJoACcu"
      },
      "execution_count": null,
      "outputs": []
    },
    {
      "cell_type": "code",
      "source": [
        "Cr_df.head()"
      ],
      "metadata": {
        "id": "fWwwL4PCu_YO"
      },
      "execution_count": null,
      "outputs": []
    },
    {
      "cell_type": "markdown",
      "source": [
        "### Dataset Rows & Columns count"
      ],
      "metadata": {
        "id": "7hBIi_osiCS2"
      }
    },
    {
      "cell_type": "code",
      "source": [
        "# Dataset Rows & Columns count\n",
        "Cr_df.shape"
      ],
      "metadata": {
        "id": "Kllu7SJgmLij"
      },
      "execution_count": null,
      "outputs": []
    },
    {
      "cell_type": "markdown",
      "source": [
        "### Dataset Information"
      ],
      "metadata": {
        "id": "JlHwYmJAmNHm"
      }
    },
    {
      "cell_type": "code",
      "source": [
        "# Dataset Info\n",
        "Cr_df.info()"
      ],
      "metadata": {
        "id": "e9hRXRi6meOf"
      },
      "execution_count": null,
      "outputs": []
    },
    {
      "cell_type": "markdown",
      "source": [
        "#### Duplicate Values"
      ],
      "metadata": {
        "id": "35m5QtbWiB9F"
      }
    },
    {
      "cell_type": "code",
      "source": [
        "# Dataset Duplicate Value Count\n",
        "Cr_df.duplicated().sum()"
      ],
      "metadata": {
        "id": "1sLdpKYkmox0"
      },
      "execution_count": null,
      "outputs": []
    },
    {
      "cell_type": "markdown",
      "source": [
        "#### Missing Values/Null Values"
      ],
      "metadata": {
        "id": "PoPl-ycgm1ru"
      }
    },
    {
      "cell_type": "code",
      "source": [
        "# Missing Values/Null Values Count\n",
        "Cr_df.isna().sum().sort_values(ascending=False)"
      ],
      "metadata": {
        "id": "GgHWkxvamxVg"
      },
      "execution_count": null,
      "outputs": []
    },
    {
      "cell_type": "code",
      "source": [
        "# Visualizing the missing values\n",
        "plt.figure(figsize=(12,5))\n",
        "sns.heatmap(Cr_df.isnull(),cmap='plasma',annot=False, yticklabels=False)\n",
        "plt.title(\"Visualising Missing Values\")"
      ],
      "metadata": {
        "id": "3q5wnI3om9sJ"
      },
      "execution_count": null,
      "outputs": []
    },
    {
      "cell_type": "markdown",
      "source": [
        "### What did you know about your dataset?"
      ],
      "metadata": {
        "id": "H0kj-8xxnORC"
      }
    },
    {
      "cell_type": "markdown",
      "source": [
        "There are no missing values in tha dataset. The given dataset contains 30001 rows and 25 columns. There are 24 independent variables and 1 target variable in our dataset. The initial problem was reading the information as it was indicated column name as X and Y, so we have renamed it. 'Default' is our target variable that we have to predict."
      ],
      "metadata": {
        "id": "gfoNAAC-nUe_"
      }
    },
    {
      "cell_type": "markdown",
      "source": [
        "## ***2. Understanding Your Variables***"
      ],
      "metadata": {
        "id": "nA9Y7ga8ng1Z"
      }
    },
    {
      "cell_type": "code",
      "source": [
        "# Dataset Columns\n",
        "Cr_df.columns"
      ],
      "metadata": {
        "id": "j7xfkqrt5Ag5"
      },
      "execution_count": null,
      "outputs": []
    },
    {
      "cell_type": "code",
      "source": [
        "# Dataset Describe\n",
        "Cr_df.describe(include='all')"
      ],
      "metadata": {
        "id": "DnOaZdaE5Q5t"
      },
      "execution_count": null,
      "outputs": []
    },
    {
      "cell_type": "markdown",
      "source": [
        "### Variables Description"
      ],
      "metadata": {
        "id": "PBTbrJXOngz2"
      }
    },
    {
      "cell_type": "markdown",
      "source": [
        "The name of the individual variables and descriptions of them mentioned below:\n",
        "\n",
        "\n",
        "**ID**: ID of each client\n",
        "\n",
        "**LIMIT_BAL**: Amount of given credit by customers\n",
        "\n",
        "**SEX**: Gender(1=male, 2=female)\n",
        "\n",
        "**EDUCATION**: Qualification of the customers(1=graduate school, 2=university,3= high school, 4=others, 5=unknown, 6=unknown)\n",
        "\n",
        "**MARRIAGE**: Marital status (1=married,2=single,3=others)\n",
        "\n",
        "**AGE**: Age in years\n",
        "\n",
        "**PAY_0**:Repayment status in September,2005(-1=pay duly, 1=payment delay for one month,2=payment delay for two month,..8= payment delay for eight months, 9=payment delay for nine months and above)\n",
        "\n",
        "**PAY_2**:Repayment status in August, 2005(scale same as above)\n",
        "\n",
        "**PAY_3**:Repayment status in July, 2005(scale same as above)\n",
        "\n",
        "**PAY_4**:Repayment status in June, 2005(scale same as above)\n",
        "\n",
        "**PAY_5**:Repayment status in May, 2005(scale same as above)\n",
        "\n",
        "**PAY_6**:Repayment status in April, 2005(scale same as above)\n",
        "\n",
        "**Bill_AMT1**:Amount of bill statement in September,2005(NT dollar)\n",
        "\n",
        "**Bill_AMT2**:Amount of bill statement in August,2005(NT dollar)\n",
        "\n",
        "**Bill_AMT3**:Amount of bill statement in July,2005(NT dollar)\n",
        "\n",
        "**Bill_AMT4**:Amount of bill statement in June,2005(NT dollar)\n",
        "\n",
        "**Bill_AMT5**:Amount of bill statement in May,2005(NT dollar)\n",
        "\n",
        "**Bill_AMT6**:Amount of bill statement in April,2005(NT dollar)\n",
        "\n",
        "**PAY_AMT1**:Amount of previous payment in September,2005(NT dollar)\n",
        "\n",
        "**PAY_AMT2**:Amount of previous payment in August,2005(NT dollar)\n",
        "\n",
        "**PAY_AMT3**:Amount of previous payment in July,2005(NT dollar)\n",
        "\n",
        "**PAY_AMT4**:Amount of previous payment in June,2005(NT dollar)\n",
        "\n",
        "**PAY_AMT5**:Amount of previous payment in May,2005(NT dollar)\n",
        "\n",
        "**PAY_AMT6**:Amount of previous payment in April,2005(NT dollar)\n",
        "\n",
        "**default.payment.next.month**:Default payment(1=yes,0=no)\n"
      ],
      "metadata": {
        "id": "aJV4KIxSnxay"
      }
    },
    {
      "cell_type": "markdown",
      "source": [
        "### Check Unique Values for each variable."
      ],
      "metadata": {
        "id": "u3PMJOP6ngxN"
      }
    },
    {
      "cell_type": "code",
      "source": [
        "# Check Unique Values for each variable\n",
        "Cr_df.nunique()"
      ],
      "metadata": {
        "id": "zms12Yq5n-jE"
      },
      "execution_count": null,
      "outputs": []
    },
    {
      "cell_type": "markdown",
      "source": [
        "## 3. ***Data Wrangling***"
      ],
      "metadata": {
        "id": "dauF4eBmngu3"
      }
    },
    {
      "cell_type": "markdown",
      "source": [
        "### Data Wrangling Code"
      ],
      "metadata": {
        "id": "bKJF3rekwFvQ"
      }
    },
    {
      "cell_type": "code",
      "source": [
        "# Write your code to make your dataset analysis ready.\n",
        "#changing all values from objects to\n",
        "Cr_df = Cr_df.apply(pd.to_numeric,errors='coerce')\n"
      ],
      "metadata": {
        "id": "wk-9a2fpoLcV"
      },
      "execution_count": null,
      "outputs": []
    },
    {
      "cell_type": "code",
      "source": [
        "Cr_df.info()"
      ],
      "metadata": {
        "id": "B8Qu-dZY0LNS"
      },
      "execution_count": null,
      "outputs": []
    },
    {
      "cell_type": "code",
      "source": [
        "Cr_df.describe()"
      ],
      "metadata": {
        "id": "QDqYdKtj09Io"
      },
      "execution_count": null,
      "outputs": []
    },
    {
      "cell_type": "code",
      "source": [
        "#Droping the ID column as it is not important for the analysis\n",
        "Cr_df.drop([\"ID\"], axis=1)"
      ],
      "metadata": {
        "id": "GhQNX3BqbRtz"
      },
      "execution_count": null,
      "outputs": []
    },
    {
      "cell_type": "code",
      "source": [
        "Cr_df.head()"
      ],
      "metadata": {
        "id": "BOFf5jfu1gRG"
      },
      "execution_count": null,
      "outputs": []
    },
    {
      "cell_type": "markdown",
      "source": [
        "#categorical variables\n",
        "We have few categorical features in our dataset. Lets check how they are related with our target class.\n",
        "\n",
        "\n",
        "**SEX**\n",
        "\n",
        "\n",
        "\n",
        "*   1 - Male\n",
        "*   2 - Female"
      ],
      "metadata": {
        "id": "e6kjjUMP1vez"
      }
    },
    {
      "cell_type": "code",
      "source": [
        "Cr_df['SEX'].value_counts()"
      ],
      "metadata": {
        "id": "FcQGIlaz2BS6"
      },
      "execution_count": null,
      "outputs": []
    },
    {
      "cell_type": "markdown",
      "source": [
        "**Education**\n",
        "\n",
        "1=Graduate school;  2=university;  3=high school;  4=others"
      ],
      "metadata": {
        "id": "rbiV4nzUN_q0"
      }
    },
    {
      "cell_type": "code",
      "source": [
        "Cr_df['EDUCATION'].value_counts()"
      ],
      "metadata": {
        "id": "cBxuDQN83WH8"
      },
      "execution_count": null,
      "outputs": []
    },
    {
      "cell_type": "code",
      "source": [
        "#Fixing the education column for the values of 5,6 and 0 by 4\n",
        "fil= (Cr_df['EDUCATION']==5) | (Cr_df['EDUCATION']==6) | (Cr_df['EDUCATION']==0)\n",
        "Cr_df.loc[fil,'EDUCATION']=4\n",
        "Cr_df['EDUCATION'].value_counts()"
      ],
      "metadata": {
        "id": "O-udChTP3spZ"
      },
      "execution_count": null,
      "outputs": []
    },
    {
      "cell_type": "markdown",
      "source": [
        "**Marriage**\n",
        "\n",
        "1 = married;  2 = single;  3 = others"
      ],
      "metadata": {
        "id": "P5-x19hXOWmu"
      }
    },
    {
      "cell_type": "code",
      "source": [
        "Cr_df['MARRIAGE'].value_counts()"
      ],
      "metadata": {
        "id": "Ct6FvriROS5X"
      },
      "execution_count": null,
      "outputs": []
    },
    {
      "cell_type": "markdown",
      "source": [
        "Fixing the 'marital status' by replacing the values of 0  with 3."
      ],
      "metadata": {
        "id": "bSGchWeQO1S4"
      }
    },
    {
      "cell_type": "code",
      "source": [
        "fil= (Cr_df['MARRIAGE']==0)\n",
        "Cr_df.loc[fil,'MARRIAGE']=3\n",
        "Cr_df['MARRIAGE'].value_counts()"
      ],
      "metadata": {
        "id": "gz7HvjhAPZZV"
      },
      "execution_count": null,
      "outputs": []
    },
    {
      "cell_type": "markdown",
      "source": [
        "### What all manipulations have you done and insights you found?"
      ],
      "metadata": {
        "id": "MSa1f5Uengrz"
      }
    },
    {
      "cell_type": "markdown",
      "source": [
        "First the entire data was changed to integer type information. There are three categorical variables in the data as 'Gender', 'Education', 'marital status'. The gender column has only two values as 1 and 2 which is fine. But the Education and Marital status has more varities, so i have replaced the unknown values in those columns with the lowest value category."
      ],
      "metadata": {
        "id": "LbyXE7I1olp8"
      }
    },
    {
      "cell_type": "markdown",
      "source": [
        "## ***4. Data Vizualization, Storytelling & Experimenting with charts : Understand the relationships between variables***"
      ],
      "metadata": {
        "id": "GF8Ens_Soomf"
      }
    },
    {
      "cell_type": "markdown",
      "source": [
        "#### Chart - 1"
      ],
      "metadata": {
        "id": "0wOQAZs5pc--"
      }
    },
    {
      "cell_type": "markdown",
      "source": [
        "**Target Variable**"
      ],
      "metadata": {
        "id": "i5ianCZZiiVf"
      }
    },
    {
      "cell_type": "code",
      "source": [
        "# Chart - 1 visualization code\n",
        "plt.figure(figsize=(6,6))\n",
        "ax=sns.countplot(x =Cr_df['default'])\n",
        "for label in ax.containers:\n",
        "    ax.bar_label(label)\n",
        "plt.xticks([0,1], labels=[\"Not Defaulted\", \"Defaulted\"])\n",
        "plt.show()"
      ],
      "metadata": {
        "id": "7v_ESjsspbW7"
      },
      "execution_count": null,
      "outputs": []
    },
    {
      "cell_type": "markdown",
      "source": [
        "##### 1. Why did you pick the specific chart?"
      ],
      "metadata": {
        "id": "K5QZ13OEpz2H"
      }
    },
    {
      "cell_type": "markdown",
      "source": [
        "**To represent the occurrence of the observation present in the categorical variable.**"
      ],
      "metadata": {
        "id": "XESiWehPqBRc"
      }
    },
    {
      "cell_type": "markdown",
      "source": [
        "##### 2. What is/are the insight(s) found from the chart?"
      ],
      "metadata": {
        "id": "lQ7QKXXCp7Bj"
      }
    },
    {
      "cell_type": "markdown",
      "source": [
        "**This data is quite imbalance which about 22% of clients will default next month.**"
      ],
      "metadata": {
        "id": "C_j1G7yiqdRP"
      }
    },
    {
      "cell_type": "markdown",
      "source": [
        "##### 3. Will the gained insights help creating a positive business impact?\n",
        "Are there any insights that lead to negative growth? Justify with specific reason."
      ],
      "metadata": {
        "id": "448CDAPjqfQr"
      }
    },
    {
      "cell_type": "markdown",
      "source": [
        "Answer Here"
      ],
      "metadata": {
        "id": "3cspy4FjqxJW"
      }
    },
    {
      "cell_type": "markdown",
      "source": [
        "#### Chart - 2"
      ],
      "metadata": {
        "id": "KSlN3yHqYklG"
      }
    },
    {
      "cell_type": "markdown",
      "source": [
        "**SEX Variable:**"
      ],
      "metadata": {
        "id": "iIzPE36dZ4iZ"
      }
    },
    {
      "cell_type": "code",
      "source": [
        "# Chart - 2 visualization code\n",
        "ax=sns.countplot(x=Cr_df['SEX'])\n",
        "for label in ax.containers:\n",
        "    ax.bar_label(label)\n",
        "plt.xticks([0,1], labels=[\"Male\", \"Female\"])\n",
        "plt.title(\"Sex distribution\")\n",
        "plt.show()\n",
        "\n",
        "ax=sns.countplot(data=Cr_df, x=\"SEX\", hue=\"default\")\n",
        "for label in ax.containers:\n",
        "    ax.bar_label(label)\n",
        "plt.xticks([0,1], labels=[\"Male\", \"Female\"])\n",
        "plt.title(\"Sex distribution according Default\")\n",
        "plt.show()"
      ],
      "metadata": {
        "id": "R4YgtaqtYklH"
      },
      "execution_count": null,
      "outputs": []
    },
    {
      "cell_type": "markdown",
      "source": [
        "##### 1. Why did you pick the specific chart?"
      ],
      "metadata": {
        "id": "t6dVpIINYklI"
      }
    },
    {
      "cell_type": "markdown",
      "source": [
        "Answer Here."
      ],
      "metadata": {
        "id": "5aaW0BYyYklI"
      }
    },
    {
      "cell_type": "markdown",
      "source": [
        "##### 2. What is/are the insight(s) found from the chart?"
      ],
      "metadata": {
        "id": "ijmpgYnKYklI"
      }
    },
    {
      "cell_type": "markdown",
      "source": [
        "Answer Here"
      ],
      "metadata": {
        "id": "PSx9atu2YklI"
      }
    },
    {
      "cell_type": "markdown",
      "source": [
        "##### 3. Will the gained insights help creating a positive business impact?\n",
        "Are there any insights that lead to negative growth? Justify with specific reason."
      ],
      "metadata": {
        "id": "-JiQyfWJYklI"
      }
    },
    {
      "cell_type": "markdown",
      "source": [
        "Answer Here"
      ],
      "metadata": {
        "id": "BcBbebzrYklV"
      }
    },
    {
      "cell_type": "markdown",
      "source": [
        "#### Chart - 3"
      ],
      "metadata": {
        "id": "EM7whBJCYoAo"
      }
    },
    {
      "cell_type": "markdown",
      "source": [
        "**EDUCATION VARIABLE**"
      ],
      "metadata": {
        "id": "EK5iFKbsiZzf"
      }
    },
    {
      "cell_type": "code",
      "source": [
        "# Chart - 3 visualization code\n",
        "ax=sns.countplot(x=Cr_df['EDUCATION'])\n",
        "for label in ax.containers:\n",
        "    ax.bar_label(label)\n",
        "plt.xticks([0,1,2,3], labels=[\"graduate school\",\"university\",\"high school\",\"others\"])\n",
        "plt.title(\"Education distribution\")\n",
        "plt.show()\n",
        "\n",
        "ax=sns.countplot(data=Cr_df, x=\"EDUCATION\", hue=\"default\")\n",
        "for label in ax.containers:\n",
        "    ax.bar_label(label)\n",
        "plt.xticks([0,1,2,3], labels=[\"graduate school\",\"university\",\"high school\",\"others\"])\n",
        "plt.title(\"Education distribution according Default\")\n",
        "plt.show()"
      ],
      "metadata": {
        "id": "t6GMdE67YoAp"
      },
      "execution_count": null,
      "outputs": []
    },
    {
      "cell_type": "markdown",
      "source": [
        "##### 1. Why did you pick the specific chart?"
      ],
      "metadata": {
        "id": "fge-S5ZAYoAp"
      }
    },
    {
      "cell_type": "markdown",
      "source": [
        "Answer Here."
      ],
      "metadata": {
        "id": "5dBItgRVYoAp"
      }
    },
    {
      "cell_type": "markdown",
      "source": [
        "##### 2. What is/are the insight(s) found from the chart?"
      ],
      "metadata": {
        "id": "85gYPyotYoAp"
      }
    },
    {
      "cell_type": "markdown",
      "source": [
        "Answer Here"
      ],
      "metadata": {
        "id": "4jstXR6OYoAp"
      }
    },
    {
      "cell_type": "markdown",
      "source": [
        "##### 3. Will the gained insights help creating a positive business impact?\n",
        "Are there any insights that lead to negative growth? Justify with specific reason."
      ],
      "metadata": {
        "id": "RoGjAbkUYoAp"
      }
    },
    {
      "cell_type": "markdown",
      "source": [
        "Answer Here"
      ],
      "metadata": {
        "id": "zfJ8IqMcYoAp"
      }
    },
    {
      "cell_type": "markdown",
      "source": [
        "#### Chart - 4"
      ],
      "metadata": {
        "id": "4Of9eVA-YrdM"
      }
    },
    {
      "cell_type": "markdown",
      "source": [
        "**Marriage Status Variable**"
      ],
      "metadata": {
        "id": "EcDjkYcSivtL"
      }
    },
    {
      "cell_type": "code",
      "source": [
        "# Chart - 4 visualization code\n",
        "ax=sns.countplot(x=Cr_df['MARRIAGE'])\n",
        "for label in ax.containers:\n",
        "    ax.bar_label(label)\n",
        "plt.xticks([0,1,2], labels=[\"Married\",\"Single\",\"Others\"])\n",
        "plt.title(\"Marriage Status distribution\")\n",
        "plt.show()\n",
        "\n",
        "ax=sns.countplot(data=Cr_df, x=\"MARRIAGE\", hue=\"default\")\n",
        "for label in ax.containers:\n",
        "    ax.bar_label(label)\n",
        "plt.xticks([0,1,2], labels=[\"Married\",\"Single\",\"Others\"])\n",
        "plt.title(\"Marriage distribution according Default\")\n",
        "plt.show()"
      ],
      "metadata": {
        "id": "irlUoxc8YrdO"
      },
      "execution_count": null,
      "outputs": []
    },
    {
      "cell_type": "markdown",
      "source": [
        "##### 1. Why did you pick the specific chart?"
      ],
      "metadata": {
        "id": "iky9q4vBYrdO"
      }
    },
    {
      "cell_type": "markdown",
      "source": [
        "Answer Here."
      ],
      "metadata": {
        "id": "aJRCwT6DYrdO"
      }
    },
    {
      "cell_type": "markdown",
      "source": [
        "##### 2. What is/are the insight(s) found from the chart?"
      ],
      "metadata": {
        "id": "F6T5p64dYrdO"
      }
    },
    {
      "cell_type": "markdown",
      "source": [
        "Answer Here"
      ],
      "metadata": {
        "id": "Xx8WAJvtYrdO"
      }
    },
    {
      "cell_type": "markdown",
      "source": [
        "##### 3. Will the gained insights help creating a positive business impact?\n",
        "Are there any insights that lead to negative growth? Justify with specific reason."
      ],
      "metadata": {
        "id": "y-Ehk30pYrdP"
      }
    },
    {
      "cell_type": "markdown",
      "source": [
        "Answer Here"
      ],
      "metadata": {
        "id": "jLNxxz7MYrdP"
      }
    },
    {
      "cell_type": "markdown",
      "source": [
        "#### Chart - 5"
      ],
      "metadata": {
        "id": "bamQiAODYuh1"
      }
    },
    {
      "cell_type": "markdown",
      "source": [
        "**AGE VARIABLE**"
      ],
      "metadata": {
        "id": "k1_DoqeSjp8z"
      }
    },
    {
      "cell_type": "code",
      "source": [
        "# Chart - 5 visualization code\n",
        "sns.histplot(data=Cr_df, x=\"AGE\", binwidth=3)\n",
        "plt.title(\"Age distribution\")\n",
        "plt.show()\n",
        "\n",
        "sns.histplot(data=Cr_df, x=\"AGE\", hue=\"default\", binwidth=3)\n",
        "plt.title(\"Age distribution according Default\")\n",
        "plt.show()\n"
      ],
      "metadata": {
        "id": "TIJwrbroYuh3"
      },
      "execution_count": null,
      "outputs": []
    },
    {
      "cell_type": "markdown",
      "source": [
        "##### 1. Why did you pick the specific chart?"
      ],
      "metadata": {
        "id": "QHF8YVU7Yuh3"
      }
    },
    {
      "cell_type": "markdown",
      "source": [
        "Answer Here."
      ],
      "metadata": {
        "id": "dcxuIMRPYuh3"
      }
    },
    {
      "cell_type": "markdown",
      "source": [
        "##### 2. What is/are the insight(s) found from the chart?"
      ],
      "metadata": {
        "id": "GwzvFGzlYuh3"
      }
    },
    {
      "cell_type": "markdown",
      "source": [
        "Answer Here"
      ],
      "metadata": {
        "id": "uyqkiB8YYuh3"
      }
    },
    {
      "cell_type": "markdown",
      "source": [
        "##### 3. Will the gained insights help creating a positive business impact?\n",
        "Are there any insights that lead to negative growth? Justify with specific reason."
      ],
      "metadata": {
        "id": "qYpmQ266Yuh3"
      }
    },
    {
      "cell_type": "markdown",
      "source": [
        "Answer Here"
      ],
      "metadata": {
        "id": "_WtzZ_hCYuh4"
      }
    },
    {
      "cell_type": "markdown",
      "source": [
        "#### Chart - 6"
      ],
      "metadata": {
        "id": "OH-pJp9IphqM"
      }
    },
    {
      "cell_type": "markdown",
      "source": [
        "**Limit_Bal Variable**"
      ],
      "metadata": {
        "id": "MAc6gYmNk5Qq"
      }
    },
    {
      "cell_type": "code",
      "source": [
        "# Chart - 6 visualization code\n",
        "sns.displot(Cr_df.LIMIT_BAL, kde=True)"
      ],
      "metadata": {
        "id": "kuRf4wtuphqN"
      },
      "execution_count": null,
      "outputs": []
    },
    {
      "cell_type": "markdown",
      "source": [
        "##### 1. Why did you pick the specific chart?"
      ],
      "metadata": {
        "id": "bbFf2-_FphqN"
      }
    },
    {
      "cell_type": "markdown",
      "source": [
        "Answer Here."
      ],
      "metadata": {
        "id": "loh7H2nzphqN"
      }
    },
    {
      "cell_type": "markdown",
      "source": [
        "##### 2. What is/are the insight(s) found from the chart?"
      ],
      "metadata": {
        "id": "_ouA3fa0phqN"
      }
    },
    {
      "cell_type": "markdown",
      "source": [
        "Answer Here"
      ],
      "metadata": {
        "id": "VECbqPI7phqN"
      }
    },
    {
      "cell_type": "markdown",
      "source": [
        "##### 3. Will the gained insights help creating a positive business impact?\n",
        "Are there any insights that lead to negative growth? Justify with specific reason."
      ],
      "metadata": {
        "id": "Seke61FWphqN"
      }
    },
    {
      "cell_type": "markdown",
      "source": [
        "Answer Here"
      ],
      "metadata": {
        "id": "DW4_bGpfphqN"
      }
    },
    {
      "cell_type": "markdown",
      "source": [
        "#### Chart - 7"
      ],
      "metadata": {
        "id": "PIIx-8_IphqN"
      }
    },
    {
      "cell_type": "markdown",
      "source": [
        "**Amount of bill statement and Amount of previous payment**"
      ],
      "metadata": {
        "id": "CG672wjfpnI8"
      }
    },
    {
      "cell_type": "code",
      "source": [
        "# Chart - 7 visualization code\n",
        "plt.subplots(figsize=(20,10))\n",
        "plt.subplot(231)\n",
        "plt.scatter(x=Cr_df.PAY_AMT1, y=Cr_df.BILL_AMT1, c='r', s=1)\n",
        "plt.xlabel('PAY_AMT1')\n",
        "plt.ylabel('BILL_AMT1')\n",
        "\n",
        "\n",
        "plt.subplot(232)\n",
        "plt.scatter(x=Cr_df.PAY_AMT2, y=Cr_df.BILL_AMT2, c='g', s=1)\n",
        "plt.xlabel('PAY_AMT2')\n",
        "plt.ylabel('BILL_AMT2')\n",
        "plt.title('Amount of Bill statementvs Amount of Previous Payment in the last 6 months', fontsize=15)\n",
        "\n",
        "\n",
        "plt.subplot(233)\n",
        "plt.scatter(x=Cr_df.PAY_AMT3, y=Cr_df.BILL_AMT3, c='b', s=1)\n",
        "plt.xlabel('PAY_AMT3')\n",
        "plt.ylabel('BILL_AMT3')\n",
        "\n",
        "\n",
        "plt.subplot(234)\n",
        "plt.scatter(x=Cr_df.PAY_AMT4, y=Cr_df.BILL_AMT4, c='y', s=1)\n",
        "plt.xlabel('PAY_AMT4')\n",
        "plt.ylabel('BILL_AMT4')\n",
        "\n",
        "plt.subplot(235)\n",
        "plt.scatter(x=Cr_df.PAY_AMT5, y=Cr_df.BILL_AMT5, c='m', s=1)\n",
        "plt.xlabel('PAY_AMT5')\n",
        "plt.ylabel('BILL_AMT5')\n",
        "\n",
        "plt.subplot(236)\n",
        "plt.scatter(x=Cr_df.PAY_AMT6, y=Cr_df.BILL_AMT6, c='orange', s=1)\n",
        "plt.xlabel('PAY_AMT6')\n",
        "plt.ylabel('BILL_AMT6')\n",
        "\n",
        "\n",
        "plt.show()"
      ],
      "metadata": {
        "id": "lqAIGUfyphqO"
      },
      "execution_count": null,
      "outputs": []
    },
    {
      "cell_type": "markdown",
      "source": [
        "##### 1. Why did you pick the specific chart?"
      ],
      "metadata": {
        "id": "t27r6nlMphqO"
      }
    },
    {
      "cell_type": "markdown",
      "source": [
        "Answer Here."
      ],
      "metadata": {
        "id": "iv6ro40sphqO"
      }
    },
    {
      "cell_type": "markdown",
      "source": [
        "##### 2. What is/are the insight(s) found from the chart?"
      ],
      "metadata": {
        "id": "r2jJGEOYphqO"
      }
    },
    {
      "cell_type": "markdown",
      "source": [
        "Answer Here"
      ],
      "metadata": {
        "id": "Po6ZPi4hphqO"
      }
    },
    {
      "cell_type": "markdown",
      "source": [
        "##### 3. Will the gained insights help creating a positive business impact?\n",
        "Are there any insights that lead to negative growth? Justify with specific reason."
      ],
      "metadata": {
        "id": "b0JNsNcRphqO"
      }
    },
    {
      "cell_type": "markdown",
      "source": [
        "Answer Here"
      ],
      "metadata": {
        "id": "xvSq8iUTphqO"
      }
    },
    {
      "cell_type": "markdown",
      "source": [
        "#### Chart - 8"
      ],
      "metadata": {
        "id": "BZR9WyysphqO"
      }
    },
    {
      "cell_type": "markdown",
      "source": [
        "**Correlation Analysis**"
      ],
      "metadata": {
        "id": "G1PE9XEyv3Un"
      }
    },
    {
      "cell_type": "code",
      "source": [
        "# Chart - 8 visualization code\n",
        "plt.figure(figsize=(20,20))\n",
        "sns.heatmap(Cr_df.corr(), annot=True, square=True)"
      ],
      "metadata": {
        "id": "TdPTWpAVphqO"
      },
      "execution_count": null,
      "outputs": []
    },
    {
      "cell_type": "markdown",
      "source": [
        "##### 1. Why did you pick the specific chart?"
      ],
      "metadata": {
        "id": "jj7wYXLtphqO"
      }
    },
    {
      "cell_type": "markdown",
      "source": [
        "To check the multicollinearity problem the above chart is used."
      ],
      "metadata": {
        "id": "Ob8u6rCTphqO"
      }
    },
    {
      "cell_type": "markdown",
      "source": [
        "##### 2. What is/are the insight(s) found from the chart?"
      ],
      "metadata": {
        "id": "eZrbJ2SmphqO"
      }
    },
    {
      "cell_type": "markdown",
      "source": [
        "From the above correlation plot we can see that bill_amt6 to bill_amt1 are highly correlated to each other which makes sense as these columns indicates the bill amounts.\n",
        "\n",
        "Apart from that there are no highly correlated inputs in our dataset, so there is no multicollinearity problem."
      ],
      "metadata": {
        "id": "mZtgC_hjphqO"
      }
    },
    {
      "cell_type": "markdown",
      "source": [
        "#### Chart - 9"
      ],
      "metadata": {
        "id": "YJ55k-q6phqO"
      }
    },
    {
      "cell_type": "markdown",
      "source": [
        "**MODELLING**"
      ],
      "metadata": {
        "id": "dfBY7GLhyGd6"
      }
    },
    {
      "cell_type": "code",
      "source": [
        "# Chart - 9 visualization code\n",
        "Cr_df.columns"
      ],
      "metadata": {
        "id": "B2aS4O1ophqO"
      },
      "execution_count": null,
      "outputs": []
    },
    {
      "cell_type": "code",
      "source": [
        "x= Cr_df.drop(['default'], axis=1)\n",
        "y= Cr_df['default']\n",
        "x.head()"
      ],
      "metadata": {
        "id": "cJggNpzhCTFw"
      },
      "execution_count": null,
      "outputs": []
    },
    {
      "cell_type": "code",
      "source": [
        "##Feature Engineering\n",
        "from sklearn.preprocessing import StandardScaler\n",
        "x= StandardScaler().fit_transform(x)"
      ],
      "metadata": {
        "id": "vm4kZY9LD284"
      },
      "execution_count": null,
      "outputs": []
    },
    {
      "cell_type": "code",
      "source": [
        "x_train,x_test,y_train,y_test= train_test_split(x,y,test_size=0.20, random_state=42)"
      ],
      "metadata": {
        "id": "oeSQkNF1yAa5"
      },
      "execution_count": null,
      "outputs": []
    },
    {
      "cell_type": "code",
      "source": [
        "##summarize class distribution\n",
        "import collections\n",
        "from imblearn.over_sampling import SMOTE\n",
        "\n",
        "print(\"Before oversampling:\",collections.Counter(y_train))\n",
        "SMOTE=SMOTE()\n",
        "\n",
        "x_train,y_train=SMOTE.fit_resample(x_train,y_train)\n",
        "\n",
        "#summarize class distribution\n",
        "print(\"After oversampling:\",collections.Counter(y_train))"
      ],
      "metadata": {
        "id": "HjUETG35ykZp"
      },
      "execution_count": null,
      "outputs": []
    },
    {
      "cell_type": "markdown",
      "source": [
        "##### 1. Why did you pick the specific chart?"
      ],
      "metadata": {
        "id": "gCFgpxoyphqP"
      }
    },
    {
      "cell_type": "markdown",
      "source": [
        "Answer Here."
      ],
      "metadata": {
        "id": "TVxDimi2phqP"
      }
    },
    {
      "cell_type": "markdown",
      "source": [
        "##### 2. What is/are the insight(s) found from the chart?"
      ],
      "metadata": {
        "id": "OVtJsKN_phqQ"
      }
    },
    {
      "cell_type": "markdown",
      "source": [
        "Answer Here"
      ],
      "metadata": {
        "id": "ngGi97qjphqQ"
      }
    },
    {
      "cell_type": "markdown",
      "source": [
        "##### 3. Will the gained insights help creating a positive business impact?\n",
        "Are there any insights that lead to negative growth? Justify with specific reason."
      ],
      "metadata": {
        "id": "lssrdh5qphqQ"
      }
    },
    {
      "cell_type": "markdown",
      "source": [
        "Answer Here"
      ],
      "metadata": {
        "id": "tBpY5ekJphqQ"
      }
    },
    {
      "cell_type": "markdown",
      "source": [
        "#### Chart - 10"
      ],
      "metadata": {
        "id": "U2RJ9gkRphqQ"
      }
    },
    {
      "cell_type": "markdown",
      "source": [
        "**Building Model:**\n",
        "\n",
        "Logistic Regression\n",
        "\n",
        "Random Forest Classifier\n",
        "\n",
        "Decision Tree\n",
        "\n",
        "XGBoost Classifier\n",
        "\n",
        "**a) Logistic Regression**\n"
      ],
      "metadata": {
        "id": "-2WHWJoI1aF0"
      }
    },
    {
      "cell_type": "code",
      "source": [
        "from sklearn.svm import SVC\n",
        "logit= LogisticRegression()\n",
        "logit.fit(x_train,y_train)\n",
        "\n",
        "pred_logit=logit.predict(x_test)\n",
        "\n",
        "print(classification_report(y_test, pred_logit))\n",
        "\n",
        "print('confusion matrix of logistic regression')\n",
        "\n",
        "print(\"Logistic accuracy:\", accuracy_score(y_test, pred_logit))\n",
        "clf = SVC(random_state=0)\n",
        "clf.fit(x_train, y_train)\n",
        "ConfusionMatrixDisplay.from_estimator(logit,x_test, y_test, cmap=\"BuPu_r\")\n",
        "plt.show()\n"
      ],
      "metadata": {
        "id": "CgPQQJm5JQ07"
      },
      "execution_count": null,
      "outputs": []
    },
    {
      "cell_type": "markdown",
      "source": [
        "##### 1. Why did you pick the specific chart?"
      ],
      "metadata": {
        "id": "1M8mcRywphqQ"
      }
    },
    {
      "cell_type": "markdown",
      "source": [
        "Answer Here."
      ],
      "metadata": {
        "id": "8agQvks0phqQ"
      }
    },
    {
      "cell_type": "markdown",
      "source": [
        "##### 2. What is/are the insight(s) found from the chart?"
      ],
      "metadata": {
        "id": "tgIPom80phqQ"
      }
    },
    {
      "cell_type": "markdown",
      "source": [
        "Answer Here"
      ],
      "metadata": {
        "id": "Qp13pnNzphqQ"
      }
    },
    {
      "cell_type": "markdown",
      "source": [
        "##### 3. Will the gained insights help creating a positive business impact?\n",
        "Are there any insights that lead to negative growth? Justify with specific reason."
      ],
      "metadata": {
        "id": "JMzcOPDDphqR"
      }
    },
    {
      "cell_type": "markdown",
      "source": [
        "Answer Here"
      ],
      "metadata": {
        "id": "R4Ka1PC2phqR"
      }
    },
    {
      "cell_type": "markdown",
      "source": [
        "#### Chart - 11"
      ],
      "metadata": {
        "id": "x-EpHcCOp1ci"
      }
    },
    {
      "cell_type": "markdown",
      "source": [
        "**b) Decision Tree Classifier:**"
      ],
      "metadata": {
        "id": "5NVwjbirN8P9"
      }
    },
    {
      "cell_type": "code",
      "source": [
        "# Chart - 11 visualization code\n",
        "Tree = DecisionTreeClassifier(criterion= 'gini', max_depth=7,\n",
        "                              max_features=9, min_samples_leaf=2, random_state=0)\n",
        "\n",
        "Tree.fit(x_train, y_train)\n",
        "pred_tree= Tree.predict(x_test)\n",
        "print('Decision Tree Accuracy:', accuracy_score(y_test,pred_tree))\n",
        "\n",
        "print(classification_report(y_test, pred_tree))\n",
        "\n",
        "print('confusion matrix of decision tree')\n",
        "ConfusionMatrixDisplay.from_estimator(Tree,x_test, y_test, cmap=\"BuPu_r\")\n",
        "plt.show()"
      ],
      "metadata": {
        "id": "mAQTIvtqp1cj"
      },
      "execution_count": null,
      "outputs": []
    },
    {
      "cell_type": "markdown",
      "source": [
        "##### 1. Why did you pick the specific chart?"
      ],
      "metadata": {
        "id": "X_VqEhTip1ck"
      }
    },
    {
      "cell_type": "markdown",
      "source": [
        "Answer Here."
      ],
      "metadata": {
        "id": "-vsMzt_np1ck"
      }
    },
    {
      "cell_type": "markdown",
      "source": [
        "##### 2. What is/are the insight(s) found from the chart?"
      ],
      "metadata": {
        "id": "8zGJKyg5p1ck"
      }
    },
    {
      "cell_type": "markdown",
      "source": [
        "Answer Here"
      ],
      "metadata": {
        "id": "ZYdMsrqVp1ck"
      }
    },
    {
      "cell_type": "markdown",
      "source": [
        "##### 3. Will the gained insights help creating a positive business impact?\n",
        "Are there any insights that lead to negative growth? Justify with specific reason."
      ],
      "metadata": {
        "id": "PVzmfK_Ep1ck"
      }
    },
    {
      "cell_type": "markdown",
      "source": [
        "Answer Here"
      ],
      "metadata": {
        "id": "druuKYZpp1ck"
      }
    },
    {
      "cell_type": "markdown",
      "source": [
        "#### Chart - 12"
      ],
      "metadata": {
        "id": "n3dbpmDWp1ck"
      }
    },
    {
      "cell_type": "markdown",
      "source": [
        "**c) Random Forest:**"
      ],
      "metadata": {
        "id": "ULHbWzl8WOGW"
      }
    },
    {
      "cell_type": "code",
      "source": [
        "# Chart - 12 visualization code\n",
        "RF= RandomForestClassifier()\n",
        "\n",
        "RF.fit(x_train, y_train)\n",
        "\n",
        "pred_RF= RF.predict(x_test)\n",
        "print(\"Random Forest Accuracy is:\", accuracy_score(y_test, pred_RF))\n",
        "\n",
        "print(classification_report(y_test, pred_RF))\n",
        "\n",
        "ConfusionMatrixDisplay.from_estimator(RF,x_test, y_test, cmap=\"BuPu_r\")\n",
        "plt.show()"
      ],
      "metadata": {
        "id": "bwevp1tKp1ck"
      },
      "execution_count": null,
      "outputs": []
    },
    {
      "cell_type": "markdown",
      "source": [
        "##### 1. Why did you pick the specific chart?"
      ],
      "metadata": {
        "id": "ylSl6qgtp1ck"
      }
    },
    {
      "cell_type": "markdown",
      "source": [
        "Answer Here."
      ],
      "metadata": {
        "id": "m2xqNkiQp1ck"
      }
    },
    {
      "cell_type": "markdown",
      "source": [
        "##### 2. What is/are the insight(s) found from the chart?"
      ],
      "metadata": {
        "id": "ZWILFDl5p1ck"
      }
    },
    {
      "cell_type": "markdown",
      "source": [
        "Answer Here"
      ],
      "metadata": {
        "id": "x-lUsV2mp1ck"
      }
    },
    {
      "cell_type": "markdown",
      "source": [
        "##### 3. Will the gained insights help creating a positive business impact?\n",
        "Are there any insights that lead to negative growth? Justify with specific reason."
      ],
      "metadata": {
        "id": "M7G43BXep1ck"
      }
    },
    {
      "cell_type": "markdown",
      "source": [
        "Answer Here"
      ],
      "metadata": {
        "id": "5wwDJXsLp1cl"
      }
    },
    {
      "cell_type": "markdown",
      "source": [
        "#### Chart - 13"
      ],
      "metadata": {
        "id": "Ag9LCva-p1cl"
      }
    },
    {
      "cell_type": "markdown",
      "source": [
        "**d) XGBoost:**"
      ],
      "metadata": {
        "id": "qBgrxQhYXykF"
      }
    },
    {
      "cell_type": "code",
      "source": [
        "# Chart - 13 visualization code\n",
        "xgboost= xgb.XGBClassifier()\n",
        "\n",
        "xgboost.fit(x_train, y_train)\n",
        "\n",
        "pred_xgboost= xgboost.predict(x_test)\n",
        "\n",
        "print(\"XGBoost Accuracy:\", accuracy_score(y_test, pred_xgboost))\n",
        "print(classification_report(y_test, pred_xgboost))\n",
        "ConfusionMatrixDisplay.from_estimator(xgboost,x_test, y_test, cmap=\"BuPu_r\")\n",
        "plt.show()"
      ],
      "metadata": {
        "id": "EUfxeq9-p1cl"
      },
      "execution_count": null,
      "outputs": []
    },
    {
      "cell_type": "markdown",
      "source": [
        "##### 1. Why did you pick the specific chart?"
      ],
      "metadata": {
        "id": "E6MkPsBcp1cl"
      }
    },
    {
      "cell_type": "markdown",
      "source": [
        "Answer Here."
      ],
      "metadata": {
        "id": "V22bRsFWp1cl"
      }
    },
    {
      "cell_type": "markdown",
      "source": [
        "##### 2. What is/are the insight(s) found from the chart?"
      ],
      "metadata": {
        "id": "2cELzS2fp1cl"
      }
    },
    {
      "cell_type": "markdown",
      "source": [
        "Answer Here"
      ],
      "metadata": {
        "id": "ozQPc2_Ip1cl"
      }
    },
    {
      "cell_type": "markdown",
      "source": [
        "##### 3. Will the gained insights help creating a positive business impact?\n",
        "Are there any insights that lead to negative growth? Justify with specific reason."
      ],
      "metadata": {
        "id": "3MPXvC8up1cl"
      }
    },
    {
      "cell_type": "markdown",
      "source": [
        "Answer Here"
      ],
      "metadata": {
        "id": "GL8l1tdLp1cl"
      }
    },
    {
      "cell_type": "markdown",
      "source": [
        "#### Chart - 14"
      ],
      "metadata": {
        "id": "NC_X3p0fY2L0"
      }
    },
    {
      "cell_type": "markdown",
      "source": [
        "**Hyper parameter turning:**"
      ],
      "metadata": {
        "id": "RyZTQKgtBjOn"
      }
    },
    {
      "cell_type": "code",
      "source": [
        "# Hyper Parameter Optimization\n",
        "\n",
        "params={\n",
        "    \"learning_rate\"   :[0.05,0.10,0.15,0.20,0.25,0.30],\n",
        "    \"max_depth\"       :[3, 4, 5, 6, 8, 10, 12, 15],\n",
        "    \"min_child_weight\":[1, 3, 5, 7],\n",
        "    \"gamma\"           :[0.0, 0.1, 0.2, 0.3, 0.4],\n",
        "    \"colsample_bytree\":[0.3, 0.4, 0.5, 0.7]\n",
        "    }"
      ],
      "metadata": {
        "id": "xyC9zolEZNRQ"
      },
      "execution_count": null,
      "outputs": []
    },
    {
      "cell_type": "code",
      "source": [
        "random_search= RandomizedSearchCV(xgboost,param_distributions=params,n_iter=5,scoring='roc_auc',n_jobs=-1,cv=5,verbose=3)\n",
        "\n",
        "random_search.fit(x_train,y_train)"
      ],
      "metadata": {
        "id": "1zxEXWSQDLye"
      },
      "execution_count": null,
      "outputs": []
    },
    {
      "cell_type": "code",
      "source": [
        "#best estimators:\n",
        "random_search.best_estimator_"
      ],
      "metadata": {
        "id": "7Hd4hWaCFQDr"
      },
      "execution_count": null,
      "outputs": []
    },
    {
      "cell_type": "code",
      "source": [
        "#best param\n",
        "random_search.best_params_"
      ],
      "metadata": {
        "id": "jINQeED6FjNa"
      },
      "execution_count": null,
      "outputs": []
    },
    {
      "cell_type": "code",
      "source": [
        "classifier=XGBRFClassifier(objective='binary:logistic',\n",
        "                                     min_child_weight=3,\n",
        "                                     max_depth=10,\n",
        "                                     learning_rate=0.25,\n",
        "                                    gamma=0.1,\n",
        "                                    colsample_bynode=1,\n",
        "                                    colsample_bytree=0.4,\n",
        "                                    use_label_encoder=False)\n",
        "#fitting the model\n",
        "classifier.fit(x_train,y_train)"
      ],
      "metadata": {
        "id": "ACLgqEwZFyZe"
      },
      "execution_count": null,
      "outputs": []
    },
    {
      "cell_type": "code",
      "source": [
        "#predicting model\n",
        "hyper_pred=classifier.predict(x_test)\n",
        "\n",
        "print(\"The accuracy of the model is:\", accuracy_score(y_test, hyper_pred))"
      ],
      "metadata": {
        "id": "m6pBYbkLHDkf"
      },
      "execution_count": null,
      "outputs": []
    },
    {
      "cell_type": "markdown",
      "source": [
        "**Compare Model Performance:**"
      ],
      "metadata": {
        "id": "FbnvKtXGIhpT"
      }
    },
    {
      "cell_type": "code",
      "source": [
        "#logistic model\n",
        "pred_logit= logit.predict(x_test)\n",
        "fpr1, tpr1, thresholds=metrics.roc_curve(y_test, pred_logit)\n",
        "auc1= metrics.roc_auc_score(y_test, pred_logit)\n",
        "\n",
        "#decision tree model\n",
        "pred_Tree= Tree.predict(x_test)\n",
        "fpr2, tpr2, thresholds=metrics.roc_curve(y_test, pred_tree)\n",
        "auc2= metrics.roc_auc_score(y_test, pred_tree)\n",
        "\n",
        "#random forest model\n",
        "pred_RF= RF.predict(x_test)\n",
        "fpr3, tpr3, thresholds= metrics.roc_curve(y_test, pred_RF)\n",
        "auc3= metrics.roc_auc_score(y_test, pred_RF)\n",
        "\n",
        "#XGboost:\n",
        "pred_xgboost= xgboost.predict(x_test)\n",
        "fpr4, tpr4, thresholds= metrics.roc_curve(y_test, pred_xgboost)\n",
        "auc4= metrics.roc_auc_score(y_test, pred_xgboost)\n",
        "\n",
        "plt.plot([0,1], [0,1], 'k--')\n",
        "plt.plot(fpr1, tpr1, label=\"logistic, auc=\"+str(round(auc1,2)))\n",
        "plt.plot(fpr2, tpr2, label=\"decision_tree, auc=\"+str(round(auc2,2)))\n",
        "plt.plot(fpr3, tpr3, label=\"random_forest, auc=\"+str(round(auc3,2)))\n",
        "plt.plot(fpr4, tpr4, label=\"XGboost, auc=\"+str(round(auc4,2)))\n",
        "\n",
        "plt.legend(loc=4, title='Models', facecolor='white')\n",
        "plt.xlabel('False Positive Rate')\n",
        "plt.ylabel('True Positive Rate')\n",
        "plt.title('ROC', size=16)\n",
        "plt.box(False)\n",
        "plt.show()"
      ],
      "metadata": {
        "id": "c80h8USwIfuK"
      },
      "execution_count": null,
      "outputs": []
    },
    {
      "cell_type": "markdown",
      "source": [
        "##### 1. Why did you pick the specific chart?"
      ],
      "metadata": {
        "id": "UV0SzAkaZNRQ"
      }
    },
    {
      "cell_type": "markdown",
      "source": [
        "Answer Here."
      ],
      "metadata": {
        "id": "DVPuT8LYZNRQ"
      }
    },
    {
      "cell_type": "markdown",
      "source": [
        "##### 2. What is/are the insight(s) found from the chart?"
      ],
      "metadata": {
        "id": "YPEH6qLeZNRQ"
      }
    },
    {
      "cell_type": "markdown",
      "source": [
        "Answer Here"
      ],
      "metadata": {
        "id": "bfSqtnDqZNRR"
      }
    },
    {
      "cell_type": "markdown",
      "source": [
        "#### Chart - 15 - Pair Plot"
      ],
      "metadata": {
        "id": "q29F0dvdveiT"
      }
    },
    {
      "cell_type": "code",
      "source": [
        "data={'logistic':68.65,\n",
        "      'decision_tree':75.36,\n",
        "      'Random_forest':79.73,\n",
        "      'xgboost':81.4,\n",
        "       'xgboost_hyper':78.85}\n",
        "courses = list(data.keys())\n",
        "values = list(data.values())"
      ],
      "metadata": {
        "id": "o58-TEIhveiU"
      },
      "execution_count": null,
      "outputs": []
    },
    {
      "cell_type": "code",
      "source": [
        "plt.figure(figsize=(14,8))\n",
        "plt.title('Comparing Accuracy of ML Models', fontsize=20)\n",
        "colors=['red','orange','blue','green','magenta'\n",
        "]\n",
        "plt.bar(courses, values, color= colors, alpha=0.5, width=0.4)\n",
        "plt.xticks(rotation=45)\n"
      ],
      "metadata": {
        "id": "tQHY7t2vTMbW"
      },
      "execution_count": null,
      "outputs": []
    },
    {
      "cell_type": "markdown",
      "source": [
        "##### 1. Why did you pick the specific chart?"
      ],
      "metadata": {
        "id": "EXh0U9oCveiU"
      }
    },
    {
      "cell_type": "markdown",
      "source": [
        "Answer Here."
      ],
      "metadata": {
        "id": "eMmPjTByveiU"
      }
    },
    {
      "cell_type": "markdown",
      "source": [
        "##### 2. What is/are the insight(s) found from the chart?"
      ],
      "metadata": {
        "id": "22aHeOlLveiV"
      }
    },
    {
      "cell_type": "markdown",
      "source": [
        "Answer Here"
      ],
      "metadata": {
        "id": "uPQ8RGwHveiV"
      }
    },
    {
      "cell_type": "markdown",
      "source": [
        "## **5. Solution to Business Objective**"
      ],
      "metadata": {
        "id": "JcMwzZxoAimU"
      }
    },
    {
      "cell_type": "markdown",
      "source": [
        "#### What do you suggest the client to achieve Business Objective ?\n",
        "Explain Briefly."
      ],
      "metadata": {
        "id": "8G2x9gOozGDZ"
      }
    },
    {
      "cell_type": "markdown",
      "source": [
        "Answer Here."
      ],
      "metadata": {
        "id": "pASKb0qOza21"
      }
    },
    {
      "cell_type": "markdown",
      "source": [
        "# **Conclusion**"
      ],
      "metadata": {
        "id": "gCX9965dhzqZ"
      }
    },
    {
      "cell_type": "markdown",
      "source": [
        "Write the conclusion here."
      ],
      "metadata": {
        "id": "Fjb1IsQkh3yE"
      }
    },
    {
      "cell_type": "markdown",
      "source": [
        "### ***Hurrah! You have successfully completed your EDA Capstone Project !!!***"
      ],
      "metadata": {
        "id": "gIfDvo9L0UH2"
      }
    }
  ]
}